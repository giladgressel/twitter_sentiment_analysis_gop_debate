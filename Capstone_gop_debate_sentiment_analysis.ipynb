{
 "cells": [
  {
   "cell_type": "code",
   "execution_count": 1,
   "metadata": {
    "collapsed": false
   },
   "outputs": [
    {
     "name": "stdout",
     "output_type": "stream",
     "text": [
      "GOP Dataset has 13871 rows, 21 columns\n"
     ]
    }
   ],
   "source": [
    "import numpy as np\n",
    "import pandas as pd\n",
    "import matplotlib.pyplot as plt\n",
    "import re\n",
    "import seaborn as sns\n",
    "sns.set(color_codes = True)\n",
    "\n",
    "# Tell iPython to include plots inline in the notebook\n",
    "%matplotlib inline\n",
    "\n",
    "data_gop = pd.read_csv('gop_Sentiment.csv')\n",
    "print \"GOP Dataset has {} rows, {} columns\".format(*data_gop.shape)  # * unpacks the shape tuple"
   ]
  },
  {
   "cell_type": "code",
   "execution_count": 2,
   "metadata": {
    "collapsed": false
   },
   "outputs": [
    {
     "name": "stdout",
     "output_type": "stream",
     "text": [
      "[(' id', 0), ('candidate', 1), ('candidate_confidence', 2), ('relevant_yn', 3), ('relevant_yn_confidence', 4), ('sentiment', 5), ('sentiment_confidence', 6), ('subject_matter', 7), ('subject_matter_confidence', 8), ('candidate_gold', 9), ('name', 10), ('relevant_yn_gold', 11), ('retweet_count', 12), ('sentiment_gold', 13), ('subject_matter_gold', 14), ('text', 15), ('tweet_coord', 16), ('tweet_created', 17), ('tweet_id', 18), ('tweet_location', 19), ('user_timezone', 20)]\n"
     ]
    }
   ],
   "source": [
    "#A lot of information we really aren't interested in, so take a look at the columns with their index.\n",
    "header_index = [(i,z) for z,i in enumerate(data_gop.columns.view())]\n",
    "print header_index"
   ]
  },
  {
   "cell_type": "code",
   "execution_count": 3,
   "metadata": {
    "collapsed": false
   },
   "outputs": [
    {
     "name": "stdout",
     "output_type": "stream",
     "text": [
      "  sentiment                                               text\n",
      "0   Neutral  RT @NancyLeeGrahn: How did everyone feel about...\n",
      "1  Positive  RT @ScottWalker: Didn't catch the full #GOPdeb...\n",
      "2   Neutral  Re-SubmissionT @TJMShow: No mention of Tamir R...\n",
      "3  Positive  RT @RobGeorge: That Carly Fiorina is trending ...\n",
      "4  Positive  RT @DanScavino: #GOPDebate w/ @realDonaldTrump...\n"
     ]
    }
   ],
   "source": [
    "#Now we can drop the ones we won't be using. We are keeping ID-0, sentiment-5,  text-15.\n",
    "#set the index to ' id' and the the other two columns as sentiment and tweet\n",
    "df_gop = pd.DataFrame(index = data_gop[' id'])\n",
    "df_gop = data_gop[['sentiment','text']].copy()\n",
    "print df_gop.head()"
   ]
  },
  {
   "cell_type": "code",
   "execution_count": 4,
   "metadata": {
    "collapsed": false
   },
   "outputs": [
    {
     "name": "stdout",
     "output_type": "stream",
     "text": [
      "['Neutral' 'Positive' 'Negative']\n",
      "\n",
      "Columns have null values?\n",
      "sentiment    False\n",
      "text         False\n",
      "dtype: bool\n"
     ]
    }
   ],
   "source": [
    "#let's look for what kinds of unique values we have in our sentiment scoring category.\n",
    "# We should also check if we have NaN's that we'd want to deal with\n",
    "print df_gop.sentiment.unique()\n",
    "print \"\"\n",
    "print \"Columns have null values?\"\n",
    "print df_gop.isnull().any()"
   ]
  },
  {
   "cell_type": "code",
   "execution_count": 5,
   "metadata": {
    "collapsed": false
   },
   "outputs": [
    {
     "data": {
      "text/plain": [
       "<matplotlib.axes._subplots.AxesSubplot at 0x11378e250>"
      ]
     },
     "execution_count": 5,
     "metadata": {},
     "output_type": "execute_result"
    },
    {
     "data": {
      "image/png": "[encoded data removed]",
      "text/plain": [
       "<matplotlib.figure.Figure at 0x10be603d0>"
      ]
     },
     "metadata": {},
     "output_type": "display_data"
    }
   ],
   "source": [
    "sns.countplot( x = 'sentiment' , data = df_gop)"
   ]
  },
  {
   "cell_type": "code",
   "execution_count": 6,
   "metadata": {
    "collapsed": false
   },
   "outputs": [
    {
     "name": "stdout",
     "output_type": "stream",
     "text": [
      "gop tweets \n",
      "\n",
      "   sentiment                                               text\n",
      "0          0  RT @NancyLeeGrahn: How did everyone feel about...\n",
      "1          1  RT @ScottWalker: Didn't catch the full #GOPdeb...\n",
      "2          0  Re-SubmissionT @TJMShow: No mention of Tamir R...\n",
      "3          1  RT @RobGeorge: That Carly Fiorina is trending ...\n",
      "4          1  RT @DanScavino: #GOPDebate w/ @realDonaldTrump...\n",
      "5          1  RT @GregAbbott_TX: @TedCruz: \"On my first day ...\n",
      "6         -1  RT @warriorwoman91: I liked her and was happy ...\n",
      "7          0  Going on #MSNBC Live with @ThomasARoberts arou...\n",
      "8         -1  Deer in the headlights RT @lizzwinstead: Ben C...\n",
      "9         -1  RT @NancyOsborne180: Last night's debate prove...\n"
     ]
    }
   ],
   "source": [
    "#we will want our labels numeric (some classifiers may not like 3-way text labels),\n",
    "#we can do that all now.\n",
    "\n",
    "df_gop.sentiment.replace(['Positive', 'Negative', 'Neutral'], [1, -1 , 0], inplace = True)\n",
    "print \"gop tweets \\n\"\n",
    "print df_gop[:10]"
   ]
  },
  {
   "cell_type": "code",
   "execution_count": 7,
   "metadata": {
    "collapsed": false
   },
   "outputs": [
    {
     "name": "stdout",
     "output_type": "stream",
     "text": [
      "The total number of samples is : 13871\n",
      "There are 2236 positive tweets or 0.161199625117%\n",
      "There are 8493 Negative tweets or 0.612284622594%\n",
      "There are 3142 Neutral tweets or 0.226515752289%\n"
     ]
    }
   ],
   "source": [
    "# Let's take a look at our class distribution\n",
    "total_tweets = len(df_gop)\n",
    "positive_tweets = sum(df_gop.sentiment == 1)\n",
    "negative_tweets = sum(df_gop.sentiment == -1)\n",
    "neutral_tweets = sum(df_gop.sentiment == 0)\n",
    "\n",
    "print \"The total number of samples is : {}\".format(len(df_gop.sentiment))\n",
    "print \"There are {} positive tweets or {}%\".format \\\n",
    "(positive_tweets, positive_tweets/float(total_tweets) )\n",
    "print \"There are {} Negative tweets or {}%\".format \\\n",
    "(negative_tweets, negative_tweets / float(total_tweets))\n",
    "print \"There are {} Neutral tweets or {}%\".format \\\n",
    "(neutral_tweets, neutral_tweets/ float(total_tweets))"
   ]
  },
  {
   "cell_type": "markdown",
   "metadata": {},
   "source": [
    "# Preprocess the Tweets\n",
    "We need to do a few steps before we can use the tweets to produce features.\n",
    "- parse the tweets into single words\n",
    "- remove retweets, these don't add any sentiment value\n",
    "- remove urls, same as above.\n",
    "- remove stop-words same as above\n",
    "\n",
    "I am passing the bulk of the parsing to the ARK tokenizer from CMU, in this case we are using a python port of the original Java.  link to the port is : https://github.com/myleott/ark-twokenize-py"
   ]
  },
  {
   "cell_type": "code",
   "execution_count": 8,
   "metadata": {
    "collapsed": false
   },
   "outputs": [
    {
     "name": "stdout",
     "output_type": "stream",
     "text": [
      "RT @NancyLeeGrahn: How did everyone feel about the Climate Change question last night? Exactly. #GOPDebate\n",
      "RT @ScottWalker: Didn't catch the full #GOPdebate last night. Here are some of Scott's best lines in 90 seconds. #Walker16 http://t.co/ZSfF…\n",
      "Re-SubmissionT @TJMShow: No mention of Tamir Rice and the #GOPDebate was held in Cleveland? Wow.\n",
      "\n",
      "['RT', '@NancyLeeGrahn', ':', 'How', 'did', 'everyone', 'feel', 'about', 'the', 'Climate', 'Change', 'question', 'last', 'night', '?', 'Exactly', '.', '#GOPDebate']\n",
      "['RT', '@ScottWalker', ':', \"Didn't\", 'catch', 'the', 'full', '#GOPdebate', 'last', 'night', '.', 'Here', 'are', 'some', 'of', \"Scott's\", 'best', 'lines', 'in', '90', 'seconds', '.', '#Walker16', 'http://t.co/ZSfF\\xe2\\x80\\xa6']\n",
      "['Re-SubmissionT', '@TJMShow', ':', 'No', 'mention', 'of', 'Tamir', 'Rice', 'and', 'the', '#GOPDebate', 'was', 'held', 'in', 'Cleveland', '?', 'Wow', '.']\n"
     ]
    }
   ],
   "source": [
    "# ok let's parse some sample the tweets use the ARK tokenizer from CMU.\n",
    "import twokenize as tw\n",
    "\n",
    "first_tweet = df_gop.iloc[0, 1]\n",
    "second_tweet = df_gop.iloc[1,1]\n",
    "third_tweet = df_gop.iloc[2,1]\n",
    "\n",
    "test_tweets = [first_tweet, second_tweet, third_tweet]\n",
    "for tweet in test_tweets:\n",
    "    print tweet\n",
    "\n",
    "print \"\"\n",
    "\n",
    "for tweet in test_tweets:\n",
    "    print tw.tokenizeRawTweetText(tweet)"
   ]
  },
  {
   "cell_type": "markdown",
   "metadata": {},
   "source": [
    "## OK that works for a rough parse well enough, let's remove the stop words, RT's and links now.  The words found in stopwords.txt came from this site:\n",
    "http://www.ranks.nl/stopwords\n"
   ]
  },
  {
   "cell_type": "code",
   "execution_count": 9,
   "metadata": {
    "collapsed": false
   },
   "outputs": [
    {
     "name": "stdout",
     "output_type": "stream",
     "text": [
      "['a', 'about', 'above', 'after', 'again', 'against', 'all', 'am', 'an', 'and', 'any', 'are', \"aren't\", 'as', 'at', 'be', 'because', 'been', 'before', 'being', 'below', 'between', 'both', 'but', 'by', \"can't\", 'cannot', 'could', \"couldn't\", 'did', \"didn't\", 'do', 'does', \"doesn't\", 'doing', \"don't\", 'down', 'during', 'each', 'few', 'for', 'from', 'further', 'had', \"hadn't\", 'has', \"hasn't\", 'have', \"haven't\", 'having', 'he', \"he'd\", \"he'll\", \"he's\", 'her', 'here', \"here's\", 'hers', 'herself', 'him', 'himself', 'his', 'how', \"how's\", 'i', \"i'd\", \"i'll\", \"i'm\", \"i've\", \"i'm\", 'if', 'in', 'into', 'is', \"isn't\", 'it', \"it's\", 'its', 'itself', \"let's\", 'me', 'more', 'most', \"mustn't\", 'my', 'myself', 'no', 'nor', 'not', 'of', 'off', 'on', 'once', 'only', 'or', 'other', 'ought', 'our', 'ours', 'ourselves', 'out', 'over', 'own', 'same', \"shan't\", 'she', \"she'd\", \"she'll\", \"she's\", 'should', \"shouldn't\", 'so', 'some', 'such', 'than', 'that', \"that's\", 'the', 'their', 'theirs', 'them', 'themselves', 'then', 'there', \"there's\", 'these', 'they', \"they'd\", \"they'll\", \"they're\", \"they've\", 'this', 'those', 'through', 'to', 'too', 'under', 'until', 'up', 'very', 'was', \"wasn't\", 'we', \"we'd\", \"we'll\", \"we're\", \"we've\", 'were', \"weren't\", 'what', \"what's\", 'when', \"when's\", 'where', \"where's\", 'which', 'while', 'who', \"who's\", 'whom', 'why', \"why's\", 'with', \"won't\", 'would', \"wouldn't\", 'you', \"you'd\", \"you'll\", \"you're\", \"you've\", 'your', 'yours', 'yourself', 'yourselves']\n"
     ]
    }
   ],
   "source": [
    "#stop-word removal\n",
    "with open('stopwords.txt') as f:\n",
    "    stop_words = f.read().splitlines()\n",
    "print stop_words"
   ]
  },
  {
   "cell_type": "code",
   "execution_count": 10,
   "metadata": {
    "collapsed": false
   },
   "outputs": [
    {
     "name": "stdout",
     "output_type": "stream",
     "text": [
      "['everyone', 'feel', 'climate', 'change', 'question', 'last', 'night', '?', 'exactly', '#gopdebate']\n",
      "['didnt', 'catch', 'full', '#gopdebate', 'last', 'night', 'scotts', 'best', 'lines', '90', 'seconds', '#walker16', '\\xe2\\x80\\xa6']\n",
      "['re-submissiont', '@tjmshow', 'mention', 'tamir', 'rice', '#gopdebate', 'held', 'cleveland', '?', 'wow']\n"
     ]
    }
   ],
   "source": [
    "# compile a regex for stop words, urls, rt's, etc\n",
    "\n",
    "retweets = re.compile(r'(rt ?@.*?:)')   \n",
    "urls = re.compile(r'(https?:.*\\b)')\n",
    "extras = re.compile(r\"\\.|\\.\\.|I|The|:|'|,|\\\"\")\n",
    "stop_word = re.compile(r'\\b({})\\b'.format('|'.join(stop_words)))\n",
    "\n",
    "regex_args = [retweets, urls, extras,  stop_word]\n",
    "#make a method to easily use our regex : note we do not want to compile the regex within this def, that would be computationally expensive.\n",
    "def parse_tweet (tweet , *args):\n",
    "    tweet = tweet.lower()\n",
    "    for arg in args:\n",
    "        tweet = re.sub(arg, \"\", tweet)\n",
    "    tweet = tw.tokenizeRawTweetText(tweet)\n",
    "    if len(tweet) < 1:\n",
    "        return \"NaN\"\n",
    "    else:\n",
    "        return tweet\n",
    "\n",
    "for tweet in test_tweets:\n",
    "    print parse_tweet(tweet, *regex_args)"
   ]
  },
  {
   "cell_type": "markdown",
   "metadata": {},
   "source": [
    "## Ok that's working well enough, let's parse all the tweets in the data frame now"
   ]
  },
  {
   "cell_type": "code",
   "execution_count": 11,
   "metadata": {
    "collapsed": false
   },
   "outputs": [
    {
     "name": "stdout",
     "output_type": "stream",
     "text": [
      "   sentiment                                               text\n",
      "0          0  [everyone, feel, climate, change, question, la...\n",
      "1          1  [didnt, catch, full, #gopdebate, last, night, ...\n",
      "2          0  [re-submissiont, @tjmshow, mention, tamir, ric...\n",
      "3          1  [carly, fiorina, trending, --, hours, debate, ...\n",
      "4          1  [#gopdebate, w/, @realdonaldtrump, delivered, ...\n",
      "(13871, 2)\n"
     ]
    }
   ],
   "source": [
    "#parse all tweets in dataframe\n",
    "# ok, now that we have rough parsing, lets parse them all!\n",
    "#run a decoder on unicode, cause \n",
    "df_gop.text = df_gop.text.apply(lambda x: x.decode('utf-8'))\n",
    "df_gop.text = df_gop.text.apply(lambda x: parse_tweet(x,*regex_args))\n",
    "print df_gop.head()\n",
    "print df_gop.shape"
   ]
  },
  {
   "cell_type": "code",
   "execution_count": 12,
   "metadata": {
    "collapsed": false
   },
   "outputs": [
    {
     "name": "stdout",
     "output_type": "stream",
     "text": [
      "sentiment    False\n",
      "text         False\n",
      "dtype: bool\n",
      "(array([], dtype=int64), array([], dtype=int64))\n"
     ]
    }
   ],
   "source": [
    "# let's check to make sure we didnt' parse anything down to an empty string or became NaN\n",
    "print df_gop.isnull().any()\n",
    "print np.where(df_gop.applymap(lambda x: x == ''))"
   ]
  },
  {
   "cell_type": "code",
   "execution_count": 13,
   "metadata": {
    "collapsed": false
   },
   "outputs": [
    {
     "name": "stdout",
     "output_type": "stream",
     "text": [
      "size of training tweets:  10403\n",
      "size of testing tweets:  3468\n"
     ]
    },
    {
     "data": {
      "text/plain": [
       "<function matplotlib.pyplot.show>"
      ]
     },
     "execution_count": 13,
     "metadata": {},
     "output_type": "execute_result"
    },
    {
     "data": {
      "image/png": "[encoded data removed]",
      "text/plain": [
       "<matplotlib.figure.Figure at 0x113fcacd0>"
      ]
     },
     "metadata": {},
     "output_type": "display_data"
    }
   ],
   "source": [
    "# now that we have all the tweets parsed, we actually want to split into our training / testing sets. \n",
    "# This is because n-gram analysis (which comes next), should not be done on the testing data!  \n",
    "# The n-gram analysis should on be on training data.  \n",
    "\n",
    "# TODO try to implement n-gram analysis with cross validation, for now I'll use a hold-out testing set\n",
    "from sklearn import cross_validation\n",
    "\n",
    "#Let's split up the labels from the training data\n",
    "\n",
    "X_all = df_gop['text']\n",
    "y_all = df_gop['sentiment']\n",
    "\n",
    "X_train, X_test, y_train, y_test = cross_validation.train_test_split(\n",
    "        X_all, y_all, test_size=0.25, stratify = y_all, random_state = 0)  #note we run stratify, in order to try and keep a balanced labeled set\n",
    "\n",
    "print \"size of training tweets: \", len(X_train)\n",
    "print \"size of testing tweets: \", len(X_test)\n",
    "\n",
    "plt.figure(figsize = (15,6))\n",
    "plt.subplot(1,2,1)\n",
    "ax = sns.countplot(y_train)\n",
    "ax.set_title(\"Training Labels\")\n",
    "plt.subplot(1,2,2)\n",
    "ax = sns.countplot(y_test)\n",
    "ax.set_title(\"Testing Labels\")\n",
    "plt.show"
   ]
  },
  {
   "cell_type": "code",
   "execution_count": 14,
   "metadata": {
    "collapsed": false
   },
   "outputs": [
    {
     "name": "stdout",
     "output_type": "stream",
     "text": [
      "[u'ok', u'can', u'cull', u'herd', u'two', u'#gopdebates', u'?', u'can', u'tell', u'pataki', u'carson', u'walker', u'cruz', u'perry', u'go', u'home', u'?']\n",
      "                                                    text  sentiment\n",
      "10194  [ok, can, cull, herd, two, #gopdebates, ?, can...         -1\n",
      "1811   [dont, like, @megynkelly, will, defend, obnoxi...          1\n",
      "4223   [can, just, build, fence, around, trump, ?, #g...         -1\n",
      "12201  [#plannedparenthood, funded, florida, -, flori...         -1\n",
      "8859   [many, great, jokes, twitter, tonight, #gopdeb...         -1\n"
     ]
    }
   ],
   "source": [
    "# we need to merge the labels and parsed tweets for doing our n-gram analysis.\n",
    "# This is because we will build n-gram models for each class, therefore we need to select only\n",
    "# those tweets that are positive / negative for the two n-gram tables.\n",
    "\n",
    "# Let's re-merge the labels into the training data order to do n-gram analysis\n",
    "XyN_gram = pd.concat([X_train, y_train], axis = 1)\n",
    "\n",
    "print XyN_gram.iloc[0, 0]\n",
    "print XyN_gram.head()"
   ]
  },
  {
   "cell_type": "code",
   "execution_count": 15,
   "metadata": {
    "collapsed": true
   },
   "outputs": [],
   "source": [
    "from collections import defaultdict\n",
    "#Let's start by developing a function that will take a parsed tweet and count the number of grams of any size\n",
    "def nGram_counter (parsed_tweet, distance_to_cover, gram_map):\n",
    "    for_loop_range = range(len(parsed_tweet) - distance_to_cover)    \n",
    "    for i in for_loop_range:\n",
    "        gram = tuple(parsed_tweet[i:i+distance_to_cover])\n",
    "        gram_map[gram] +=1\n",
    "        \n",
    "   "
   ]
  },
  {
   "cell_type": "code",
   "execution_count": 16,
   "metadata": {
    "collapsed": false
   },
   "outputs": [
    {
     "name": "stdout",
     "output_type": "stream",
     "text": [
      "the test tweet: [u'ok', u'can', u'cull', u'herd', u'two', u'#gopdebates', u'?', u'can', u'tell', u'pataki', u'carson', u'walker', u'cruz', u'perry', u'go', u'home', u'?']\n",
      "\n",
      "defaultdict(<type 'int'>, {(u'herd',): 1, (u'can',): 2, (u'cull',): 1, (u'tell',): 1, (u'perry',): 1, (u'?',): 1, (u'ok',): 1, (u'go',): 1, (u'pataki',): 1, (u'#gopdebates',): 1, (u'carson',): 1, (u'cruz',): 1, (u'two',): 1, (u'walker',): 1, (u'home',): 1})\n",
      " \n",
      "defaultdict(<type 'int'>, {(u'perry', u'go'): 1, (u'herd', u'two'): 1, (u'cruz', u'perry'): 1, (u'can', u'cull'): 1, (u'cull', u'herd'): 1, (u'#gopdebates', u'?'): 1, (u'tell', u'pataki'): 1, (u'can', u'tell'): 1, (u'two', u'#gopdebates'): 1, (u'go', u'home'): 1, (u'?', u'can'): 1, (u'ok', u'can'): 1, (u'carson', u'walker'): 1, (u'pataki', u'carson'): 1, (u'walker', u'cruz'): 1})\n",
      " \n",
      "defaultdict(<type 'int'>, {(u'walker', u'cruz', u'perry'): 1, (u'can', u'cull', u'herd'): 1, (u'ok', u'can', u'cull'): 1, (u'herd', u'two', u'#gopdebates'): 1, (u'can', u'tell', u'pataki'): 1, (u'pataki', u'carson', u'walker'): 1, (u'#gopdebates', u'?', u'can'): 1, (u'tell', u'pataki', u'carson'): 1, (u'cull', u'herd', u'two'): 1, (u'two', u'#gopdebates', u'?'): 1, (u'perry', u'go', u'home'): 1, (u'carson', u'walker', u'cruz'): 1, (u'cruz', u'perry', u'go'): 1, (u'?', u'can', u'tell'): 1})\n",
      " \n"
     ]
    }
   ],
   "source": [
    "# ok let's try out the above function and make sure it's doing what we think\n",
    "# we will use the same test tweet as before \n",
    "# test1 = [u'ok', u',', u'can', u'cull', u'herd', u'two', u'#gopdebates', u'?', u'can', u'tell', u'pataki', u',', u'carson', u',', u'walker', u',', u'cruz', u'perry', u'go', u'home', u'?']\n",
    "\n",
    "test1 = XyN_gram.iloc[0,0]\n",
    "\n",
    "test_uni = defaultdict(int)\n",
    "test_bi = defaultdict(int)\n",
    "test_tri = defaultdict(int)\n",
    "\n",
    "nGram_counter(test1, 3, test_tri)\n",
    "nGram_counter(test1, 2, test_bi)\n",
    "nGram_counter(test1, 1, test_uni)\n",
    "# check our output.\n",
    "print \"the test tweet: {}\".format(test1)\n",
    "print \"\"\n",
    "print test_uni\n",
    "print \" \"\n",
    "print test_bi\n",
    "print \" \"\n",
    "print test_tri\n",
    "print \" \""
   ]
  },
  {
   "cell_type": "code",
   "execution_count": 17,
   "metadata": {
    "collapsed": true
   },
   "outputs": [],
   "source": [
    "#let's now apply our n-gram counter to all the tweets of a certain class.\n",
    "\n",
    "def n_gram_counter (tweets, map1, map2, map3, classtype):\n",
    "    tweets.apply(lambda x: nGram_counter(x.text, 1, map1), 1)\n",
    "    tweets.apply(lambda x: nGram_counter(x.text, 2, map2), 1)\n",
    "    tweets.apply(lambda x: nGram_counter(x.text, 3, map3), 1)\n",
    "    print \"Total Unigrams for {} Tweets : {}\".format(classtype, len(map1))\n",
    "    print \n",
    "    print \"Total Bi-grams for {} Tweets: {}\".format(classtype, len(map2))\n",
    "    print\n",
    "    print \"Total Tri-grams for {} Tweets: {}\".format(classtype, len(map3))\n",
    "    print\n",
    "    print \"Most popular {} Uni-grams : {}\" \\\n",
    "    .format(classtype, sorted(map1.items(), key=lambda x: x[1], reverse = True)[:15])\n",
    "    print\n",
    "    print \"Most Popular {}  Bi-gams : {}\" \\\n",
    "    .format(classtype, sorted(map2.items(), key = lambda x: x[1], reverse = True)[:15])\n",
    "    print\n",
    "    print \"Most popular {} Tri-grams : {}\" \\\n",
    "    .format(classtype, sorted(map3.items(), key=lambda x: x[1], reverse = True)[:15])\n",
    "    "
   ]
  },
  {
   "cell_type": "code",
   "execution_count": 18,
   "metadata": {
    "collapsed": false
   },
   "outputs": [
    {
     "name": "stdout",
     "output_type": "stream",
     "text": [
      "Total Unigrams for Neutral Tweets : 5003\n",
      "\n",
      "Total Bi-grams for Neutral Tweets: 12261\n",
      "\n",
      "Total Tri-grams for Neutral Tweets: 11949\n",
      "\n",
      "Most popular Neutral Uni-grams : [((u'#gopdebate',), 940), ((u'?',), 348), ((u'#gopdebates',), 240), ((u'last',), 224), ((u'trump',), 219), ((u'!',), 184), ((u'debate',), 164), ((u'&',), 122), ((u'night',), 122), ((u'candidates',), 112), ((u'-',), 112), ((u'will',), 103), ((u'\\U0001f1fa\\U0001f1f8',), 103), ((u'@realdonaldtrump',), 102), ((u'one',), 99)]\n",
      "\n",
      "Most Popular Neutral  Bi-gams : [((u'last', u'night'), 105), ((u'last', u'nights'), 88), ((u'\\U0001f1fa\\U0001f1f8', u'#gopdebate'), 85), ((u'nights', u'#gopdebate'), 53), ((u'fox', u'news'), 50), ((u'#gopdebate', u'last'), 47), ((u'donald', u'trump'), 35), ((u'#gopdebate', u'?'), 32), ((u'gop', u'debate'), 32), ((u'?', u'#gopdebate'), 30), ((u'cruz', u'trump'), 30), ((u'rubio', u'\\U0001f1fa\\U0001f1f8'), 28), ((u'get', u'rid'), 28), ((u'together', u'expose'), 28), ((u'trump', u'need'), 28)]\n",
      "\n",
      "Most popular Neutral Tri-grams : [((u'last', u'nights', u'#gopdebate'), 53), ((u'#gopdebate', u'last', u'night'), 38), ((u'job', u'get', u'rid'), 28), ((u'rubio', u'\\U0001f1fa\\U0001f1f8', u'#gopdebate'), 28), ((u'expose', u'set', u'job'), 28), ((u'cruz', u'trump', u'need'), 28), ((u'think', u'cruz', u'trump'), 28), ((u'together', u'expose', u'set'), 28), ((u'rid', u'bush', u'rubio'), 28), ((u'need', u'band', u'together'), 28), ((u'\\U0001f1fa\\U0001f1f8', u'#gopdebate', u'#g'), 28), ((u'band', u'together', u'expose'), 28), ((u'bush', u'rubio', u'\\U0001f1fa\\U0001f1f8'), 28), ((u'set', u'job', u'get'), 28), ((u'trump', u'need', u'band'), 28)]\n"
     ]
    }
   ],
   "source": [
    "#initialize the neutral tweets, and their respective maps.  We use a pre-initialized map, because we want to use\n",
    "#apply on the dataframe, and this way nothing needs to be returned by the counting function.\n",
    "\n",
    "neutral_tweets = XyN_gram[XyN_gram.sentiment == 0]\n",
    "neutral_uni_grams = defaultdict(int)\n",
    "neutral_bi_grams = defaultdict(int)\n",
    "neutral_tri_grams = defaultdict(int)\n",
    "\n",
    "n_gram_counter(neutral_tweets, neutral_uni_grams, neutral_bi_grams, neutral_tri_grams, \"Neutral\")"
   ]
  },
  {
   "cell_type": "code",
   "execution_count": 19,
   "metadata": {
    "collapsed": false
   },
   "outputs": [
    {
     "name": "stdout",
     "output_type": "stream",
     "text": [
      "Total Unigrams for Positive Tweets : 3459\n",
      "\n",
      "Total Bi-grams for Positive Tweets: 9017\n",
      "\n",
      "Total Tri-grams for Positive Tweets: 8893\n",
      "\n",
      "Most popular Positive Uni-grams : [((u'#gopdebate',), 764), ((u'trump',), 279), ((u'!',), 235), ((u'@realdonaldtrump',), 227), ((u'\\U0001f1fa\\U0001f1f8',), 220), ((u'#gopdebates',), 212), ((u'debate',), 144), ((u'last',), 132), ((u'&',), 115), ((u'fox',), 110), ((u'rubio',), 107), ((u'news',), 105), ((u'night',), 102), ((u'cruz',), 97), ((u'?',), 92)]\n",
      "\n",
      "Most Popular Positive  Bi-gams : [((u'\\U0001f1fa\\U0001f1f8', u'#gopdebate'), 197), ((u'fox', u'news'), 91), ((u'last', u'night'), 80), ((u'@realdonaldtrump', u's'), 60), ((u's', u'ratings'), 58), ((u'youre', u'raising'), 55), ((u'thanks', u'fox'), 55), ((u'raising', u'@realdonaldtrump'), 55), ((u'news', u'youre'), 55), ((u'ratings', u'\\U0001f1fa\\U0001f1f8'), 54), ((u'get', u'rid'), 51), ((u'rubio', u'\\U0001f1fa\\U0001f1f8'), 50), ((u'together', u'expose'), 50), ((u'trump', u'need'), 50), ((u'set', u'job'), 50)]\n",
      "\n",
      "Most popular Positive Tri-grams : [((u'@realdonaldtrump', u's', u'ratings'), 58), ((u'thanks', u'fox', u'news'), 55), ((u'fox', u'news', u'youre'), 55), ((u'youre', u'raising', u'@realdonaldtrump'), 55), ((u'news', u'youre', u'raising'), 55), ((u'raising', u'@realdonaldtrump', u's'), 55), ((u'ratings', u'\\U0001f1fa\\U0001f1f8', u'#gopdebate'), 54), ((u's', u'ratings', u'\\U0001f1fa\\U0001f1f8'), 54), ((u'set', u'job', u'get'), 50), ((u'job', u'get', u'rid'), 50), ((u'rubio', u'\\U0001f1fa\\U0001f1f8', u'#gopdebate'), 50), ((u'expose', u'set', u'job'), 50), ((u'cruz', u'trump', u'need'), 50), ((u'think', u'cruz', u'trump'), 50), ((u'together', u'expose', u'set'), 50)]\n"
     ]
    }
   ],
   "source": [
    "#Ok let's do that again, for positive tweets now\n",
    "\n",
    "positive_tweets = XyN_gram[XyN_gram.sentiment == 1]\n",
    "positive_uni_grams = defaultdict(int)\n",
    "positive_bi_grams = defaultdict(int)\n",
    "positive_tri_grams = defaultdict(int)\n",
    "\n",
    "n_gram_counter(positive_tweets, positive_uni_grams, positive_bi_grams, positive_tri_grams, \"Positive\")"
   ]
  },
  {
   "cell_type": "code",
   "execution_count": 20,
   "metadata": {
    "collapsed": false
   },
   "outputs": [
    {
     "name": "stdout",
     "output_type": "stream",
     "text": [
      "Total Unigrams for Negative Tweets : 8948\n",
      "\n",
      "Total Bi-grams for Negative Tweets: 31465\n",
      "\n",
      "Total Tri-grams for Negative Tweets: 32424\n",
      "\n",
      "Most popular Negative Uni-grams : [((u'#gopdebate',), 2614), ((u'?',), 1162), ((u'\\U0001f1fa\\U0001f1f8',), 902), ((u'#gopdebates',), 862), ((u'fox',), 777), ((u'trump',), 663), ((u'&',), 520), ((u'!',), 504), ((u'news',), 490), ((u'just',), 452), ((u'debate',), 436), ((u'@realdonaldtrump',), 435), ((u'candidates',), 425), ((u'jeb',), 385), ((u'dont',), 382)]\n",
      "\n",
      "Most Popular Negative  Bi-gams : [((u'\\U0001f1fa\\U0001f1f8', u'#gopdebate'), 703), ((u'fox', u'news'), 464), ((u'?', u'#gopdebate'), 231), ((u'jeb', u'bush'), 211), ((u'chris', u'wallace'), 204), ((u'last', u'night'), 199), ((u'donald', u'trump'), 165), ((u'#gopdebate', u'#gopdebates'), 145), ((u'fair', u'&'), 139), ((u'&', u'balanced'), 137), ((u'\\U0001f1fa\\U0001f1f8', u'#gopdebates'), 132), ((u'bush', u'reminds'), 126), ((u'listen', u'\\U0001f1fa\\U0001f1f8'), 125), ((u'reminds', u'elevator'), 125), ((u'dont', u'listen'), 125)]\n",
      "\n",
      "Most popular Negative Tri-grams : [((u'fair', u'&', u'balanced'), 137), ((u'music', u'hear', u'dont'), 125), ((u'reminds', u'elevator', u'music'), 125), ((u'bush', u'reminds', u'elevator'), 125), ((u'listen', u'\\U0001f1fa\\U0001f1f8', u'#gopdebate'), 125), ((u'jeb', u'bush', u'reminds'), 125), ((u'dont', u'listen', u'\\U0001f1fa\\U0001f1f8'), 125), ((u'hear', u'dont', u'listen'), 125), ((u'elevator', u'music', u'hear'), 125), ((u'debate', u'\\U0001f1fa\\U0001f1f8', u'#gopdebate'), 113), ((u'?', u'#gopdebate', u'#gopdebates'), 110), ((u'obviously', u'trying', u'influence'), 107), ((u'makeup', u'republican', u'field'), 107), ((u'fox', u'news', u'obviously'), 107), ((u'news', u'obviously', u'trying'), 107)]\n"
     ]
    }
   ],
   "source": [
    "#Ok let's do that again, for the negative tweets now\n",
    "\n",
    "negative_tweets = XyN_gram[XyN_gram.sentiment == -1]\n",
    "negative_uni_grams = defaultdict(int)\n",
    "negative_bi_grams = defaultdict(int)\n",
    "negative_tri_grams = defaultdict(int)\n",
    "\n",
    "n_gram_counter(negative_tweets, negative_uni_grams, negative_bi_grams, negative_tri_grams, \"Negative\")"
   ]
  },
  {
   "cell_type": "code",
   "execution_count": 23,
   "metadata": {
    "collapsed": false
   },
   "outputs": [
    {
     "name": "stdout",
     "output_type": "stream",
     "text": [
      "Total Unigrams for ALL Tweets : 11982\n",
      "\n",
      "Total Bi-grams for ALL Tweets: 47531\n",
      "\n",
      "Total Tri-grams for ALL Tweets: 50506\n",
      "\n",
      "Most popular ALL Uni-grams : [((u'#gopdebate',), 4318), ((u'?',), 1602), ((u'#gopdebates',), 1314), ((u'\\U0001f1fa\\U0001f1f8',), 1225), ((u'trump',), 1161), ((u'fox',), 969), ((u'!',), 923), ((u'@realdonaldtrump',), 764), ((u'&',), 757), ((u'debate',), 744), ((u'last',), 706), ((u'news',), 663), ((u'candidates',), 618), ((u'just',), 551), ((u'like',), 514)]\n",
      "\n",
      "Most Popular ALL  Bi-gams : [((u'\\U0001f1fa\\U0001f1f8', u'#gopdebate'), 985), ((u'fox', u'news'), 605), ((u'last', u'night'), 384), ((u'?', u'#gopdebate'), 266), ((u'jeb', u'bush'), 228), ((u'donald', u'trump'), 221), ((u'chris', u'wallace'), 220), ((u'last', u'nights'), 213), ((u'#gopdebate', u'#gopdebates'), 173), ((u'debate', u'\\U0001f1fa\\U0001f1f8'), 153), ((u'fair', u'&'), 145), ((u'&', u'balanced'), 143), ((u'nights', u'#gopdebate'), 141), ((u'\\U0001f1fa\\U0001f1f8', u'#gopdebates'), 141), ((u'#gopdebate', u'last'), 129)]\n",
      "\n",
      "Most popular ALL Tri-grams : [((u'debate', u'\\U0001f1fa\\U0001f1f8', u'#gopdebate'), 153), ((u'fair', u'&', u'balanced'), 143), ((u'last', u'nights', u'#gopdebate'), 140), ((u'music', u'hear', u'dont'), 127), ((u'reminds', u'elevator', u'music'), 127), ((u'bush', u'reminds', u'elevator'), 127), ((u'listen', u'\\U0001f1fa\\U0001f1f8', u'#gopdebate'), 127), ((u'jeb', u'bush', u'reminds'), 127), ((u'dont', u'listen', u'\\U0001f1fa\\U0001f1f8'), 127), ((u'hear', u'dont', u'listen'), 127), ((u'elevator', u'music', u'hear'), 127), ((u'?', u'#gopdebate', u'#gopdebates'), 117), ((u'obviously', u'trying', u'influence'), 111), ((u'makeup', u'republican', u'field'), 111), ((u'fox', u'news', u'obviously'), 111)]\n"
     ]
    }
   ],
   "source": [
    "#Ok let's do that again, for the negative tweets now\n",
    "\n",
    "all_training_tweets = XyN_gram\n",
    "ALL_uni_grams = defaultdict(int)\n",
    "ALL_bi_grams = defaultdict(int)\n",
    "ALL_tri_grams = defaultdict(int)\n",
    "\n",
    "n_gram_counter(all_training_tweets, ALL_uni_grams, ALL_bi_grams, ALL_tri_grams, \"ALL\")"
   ]
  },
  {
   "cell_type": "code",
   "execution_count": 21,
   "metadata": {
    "collapsed": true
   },
   "outputs": [],
   "source": [
    "def to_pd_csv (how_much, filename, sentiment, *gramaps):\n",
    "    popular_grams = pd.DataFrame()\n",
    "    for gmap in gramaps:\n",
    "        sort = sorted(gmap.items(), key=lambda x:x[1], reverse = True)[:how_much]\n",
    "        df = pd.DataFrame([[row[0], row[1]] for row in sort], columns=[\"{}-grams\".format(len(row[0])), 'Count'])\n",
    "        popular_grams = pd.concat([popular_grams, df], axis=1)\n",
    "    popular_grams.to_csv('{}.csv'.format(filename), encoding = 'utf-8')"
   ]
  },
  {
   "cell_type": "code",
   "execution_count": 24,
   "metadata": {
    "collapsed": false
   },
   "outputs": [],
   "source": [
    "neutral_grams = [neutral_uni_grams, neutral_bi_grams, neutral_tri_grams]  \n",
    "pos_grams = [positive_uni_grams, positive_bi_grams ,positive_tri_grams]\n",
    "negative_grams = [negative_uni_grams, negative_bi_grams, negative_tri_grams]\n",
    "all_grams = [ALL_uni_grams, ALL_bi_grams, ALL_tri_grams]\n",
    "\n",
    "to_pd_csv(10, \"neutral_grams\",\"neutral\", *neutral_grams)\n",
    "to_pd_csv(10, \"positive_grams\", \"positive\", *pos_grams)\n",
    "to_pd_csv(10, \"negative_grams\", \"negative\", *negative_grams)\n",
    "to_pd_csv(10, \"all_grams\", \"ALL\", *all_grams)"
   ]
  },
  {
   "cell_type": "markdown",
   "metadata": {},
   "source": [
    "ok, lets use these gram maps to create some features finally.\n",
    "so what we want to do is :\n",
    "\n",
    "take each tweet.text and calculate the probability of that tweet existing as a neutral tweet.  \n",
    "we can use this feature to construct our first classifier, for neutral tweets.\n",
    "let's start by defining a function that calculates the probability of a tweet.  \n",
    "I will need to include smoothing, normalization and worry about over / underflow.\n",
    "actually the very first step is to transform our maps into maximum likliehood probabilities."
   ]
  },
  {
   "cell_type": "code",
   "execution_count": null,
   "metadata": {
    "collapsed": false
   },
   "outputs": [],
   "source": [
    "# maximum likliehood probabilities for neutral grams.\n",
    "# we will calculate maximum likliehood with smoothing, will use simple laplace k-smoothing, with k = 1\n",
    "\n",
    "\n",
    "def calculate_maximum_likliehood (gram_map, k_smoothing = 1, Prior_map = None):\n",
    "    MLE_estimates = {}\n",
    "    count_vocabulary = len(gram_map) # this is V, or the unique vocabulary\n",
    "    total_gram_count = sum(gram_map.values()) #the is the total count of all the grams\n",
    "    \n",
    "    if Prior_map != None:\n",
    "        prior_gram_vocabulary_count = len(Prior_map) # also V for smoothing on conditioned grams\n",
    "    \n",
    "    #figure out what kind of gram-map we have\n",
    "    keys = gram_map.keys()\n",
    "    if len(keys[0]) == 1: # we have unigrams\n",
    "        for key in keys:\n",
    "            MLE_estimates[key] = (gram_map[key] + k_smoothing) / \\\n",
    "            float((count_vocabulary*k_smoothing) + total_gram_count)\n",
    "            # above will give MLE with smoothing = 1\n",
    "                \n",
    "    elif len(keys[0]) == 2: # We have bigrams, thus we sould condition on a previous unigram\n",
    "        for key in keys:\n",
    "            MLE_estimates[key] = (gram_map[key] + k_smoothing) / \\\n",
    "            float((k_smoothing * prior_gram_vocabulary_count) + Prior_map[key[0],])\n",
    "    elif len(keys[0]) == 3: #should be 3 size, so condition on previous bi-gram\n",
    "        for key in keys:\n",
    "            MLE_estimates[key] = (gram_map[key] + k_smoothing) / \\\n",
    "            float((k_smoothing * prior_gram_vocabulary_count) +Prior_map[key[:2]])\n",
    "    else: #should never get here\n",
    "        print \"whoa, what are you passing?\"\n",
    "        print key\n",
    "            \n",
    "\n",
    "    return MLE_estimates\n",
    "\n",
    "MLE_neutral_uni_gram = calculate_maximum_likliehood(neutral_uni_gram_map , 1)\n",
    "MLE_neutral_bi_gram = calculate_maximum_likliehood(neutral_bi_gram_map, 1, Prior_map=neutral_uni_gram_map)\n",
    "MLE_neutral_tri_gram = calculate_maximum_likliehood(neutral_tri_gram_map, 1, Prior_map=neutral_bi_gram_map)\n",
    "\n",
    "## sanity checks\n",
    "print len(MLE_neutral_uni_gram) == len(neutral_uni_gram_map)\n",
    "print len(MLE_neutral_bi_gram) == len(neutral_bi_gram_map)\n",
    "print len(MLE_neutral_tri_gram) == len(neutral_tri_gram_map)\n",
    "\n",
    "# should look reasonble?\n",
    "print MLE_neutral_bi_gram.values()[:10]"
   ]
  },
  {
   "cell_type": "markdown",
   "metadata": {},
   "source": [
    "Ok, now we have MLE for all the training data.  This is n-gram analysis on the positive data.\n",
    "NExt we need to reparse all the tweets, looking up their values in the MLE_pos gram maps.\n",
    "Take log probabilities of everything If a gram doesn't exist in the correct place, then we'll use smoothing."
   ]
  },
  {
   "cell_type": "code",
   "execution_count": null,
   "metadata": {
    "collapsed": false
   },
   "outputs": [],
   "source": [
    "import math\n",
    "\n",
    "def v_plus_n(grams):\n",
    "    total_unique_grams = len(grams) # this is V or the unique vocabulary for smoothing \n",
    "    total_gram_count = sum(grams.values()) #this is N, total number of counts of the vocabulary.\n",
    "    return float(total_unique_grams + total_gram_count)\n",
    "\n",
    "\n",
    "def probability_calculator (parsed_tweet, gram_size):\n",
    "    \n",
    "    if len(parsed_tweet) <1:  #this will catch any empty tweets I missed earlier.\n",
    "        print \"you have a NAN\"\n",
    "        print parsed_tweet\n",
    "        return \"NaN\"\n",
    "    \n",
    "    uni_VplusN = v_plus_n(neutral_uni_gram_map) # will use these values in smoothing\n",
    "    bi_VplusN = v_plus_n(neutral_bi_gram_map)\n",
    "    tri_VplusN = v_plus_n(neutral_tri_gram_map)\n",
    "        \n",
    "    # gram_map should correspond to gram_size i.E bi-grams, or tri-grams etc.\n",
    "    loop_range = range(len(parsed_tweet) - gram_size)\n",
    "    prob = 0\n",
    "    \n",
    "    if gram_size == 1: #unigrams\n",
    "        for i in loop_range:\n",
    "            gram = tuple(parsed_tweet[i:i+gram_size])\n",
    "            \n",
    "            if gram in MLE_neutral_uni_gram: #look up the probability value we've already calculated\n",
    "                prob += math.log(MLE_neutral_uni_gram[gram])\n",
    "            else:  #it's unseen so create a new probability with k-smoothing\n",
    "                #pass # penalize it with nothing\n",
    "                prob += math.log( 1.0 / uni_VplusN )  \n",
    "    \n",
    "    if gram_size == 2: #bi-grams\n",
    "        for i in loop_range:\n",
    "            gram = tuple(parsed_tweet[i:i+gram_size])\n",
    "            \n",
    "            if gram in MLE_neutral_bi_gram:\n",
    "                prob += math.log(MLE_neutral_bi_gram[gram])  #look up probability we've calculated\n",
    "            \n",
    "            else:  #condition the unseen bi-gram on the seen unigram.\n",
    "                #pass\n",
    "                if (gram[0],) in neutral_uni_gram_map:\n",
    "                    prob += math.log( 1.0 / (neutral_uni_gram_map[gram[0],] + len(neutral_uni_gram_map)))  \n",
    "                    \n",
    "                    # so if gram = ('this','cat'), and we have never seen that before.  we are\n",
    "                    # getting a probability that is: 1 / count('this') + count(unique_single grams)\n",
    "                    #obviously close to zero.  ....\n",
    "                else: #then if even the first part of this unseen bigram is not the unigram database, just do V+N\n",
    "                    prob += math.log(1.0 / bi_VplusN)\n",
    "    \n",
    "    if gram_size == 3: #tri-grams\n",
    "        for i in loop_range:\n",
    "            gram = tuple(parsed_tweet[i:i+gram_size])\n",
    "            \n",
    "            if gram in MLE_neutral_tri_gram:\n",
    "                prob += math.log(MLE_neutral_tri_gram[gram]) # look up prob we've already calculated\n",
    "            \n",
    "            else:\n",
    "                #pass\n",
    "                if gram[:2] in neutral_bi_gram_map:\n",
    "                    prob += math.log( 1.0 / (neutral_bi_gram_map[gram[:2]] + len(neutral_bi_gram_map)))\n",
    "                else:\n",
    "                    prob += math.log(1.0 / tri_VplusN)\n",
    "                             \n",
    "    probability = math.exp(prob) / len(parsed_tweet) # normalize by the number of grams in the tweet.\n",
    "    return probability\n",
    "   \n",
    "\n",
    "test_tweet = [u'ok', u',', u'can', u'cull', u'herd', u'two', u'#gopdebates', u'?', u'can', u'tell', u'pataki', u',', u'carson', u',', u'walker', u',', u'cruz', u'perry', u'go', u'home', u'?']\n",
    "print probability_calculator(test_tweet,1)\n",
    "print probability_calculator(test_tweet,2)\n",
    "print probability_calculator(test_tweet,3)"
   ]
  },
  {
   "cell_type": "markdown",
   "metadata": {},
   "source": [
    "now we want to make features using the probability calculator!! time to finally get positive probability features for all our tweets.  both training and testing need them."
   ]
  },
  {
   "cell_type": "code",
   "execution_count": null,
   "metadata": {
    "collapsed": false
   },
   "outputs": [],
   "source": [
    "X_trainy = pd.DataFrame(X_train)  #have to convert the Series into a dataframe, in order to add columns\n",
    "X_trainy['neut-uni'] = X_trainy.text.apply(lambda x: probability_calculator(x, 1),1)\n",
    "X_trainy['neut-bi'] = X_trainy.text.apply(lambda x: probability_calculator(x,2),1)\n",
    "X_trainy['neut-tri'] = X_trainy.text.apply(lambda x: probability_calculator(x,3),1)\n",
    "print X_trainy.head()"
   ]
  },
  {
   "cell_type": "code",
   "execution_count": null,
   "metadata": {
    "collapsed": true
   },
   "outputs": [],
   "source": [
    "X_trainy = pd.DataFrame(X_train)  #have to convert the Series into a dataframe, in order to add columns\n",
    "X_trainy['neut-uni'] = X_trainy.text.apply(lambda x: probability_calculator(x, 1),1)\n",
    "X_trainy['neut-bi'] = X_trainy.text.apply(lambda x: probability_calculator(x,2),1)\n",
    "X_trainy['neut-tri'] = X_trainy.text.apply(lambda x: probability_calculator(x,3),1)\n",
    "print X_trainy.head()"
   ]
  },
  {
   "cell_type": "code",
   "execution_count": null,
   "metadata": {
    "collapsed": true
   },
   "outputs": [],
   "source": [
    "#note that X_test is getting probability, but they are calculated based on X_train's probability model\n",
    "\n",
    "X_testy = pd.DataFrame(X_test) #have to convert the Series into a dataframe, in order to add columns\n",
    "X_testy['neut-uni'] = X_testy.text.apply(lambda x: probability_calculator(x, 1), 1)\n",
    "X_testy['neut-bi'] = X_testy.text.apply(lambda x: probability_calculator(x,2),1)\n",
    "X_testy['neut-tri'] = X_testy.text.apply(lambda x: probability_calculator(x,3),1)\n",
    "print X_testy.head()"
   ]
  },
  {
   "cell_type": "code",
   "execution_count": null,
   "metadata": {
    "collapsed": true
   },
   "outputs": [],
   "source": []
  },
  {
   "cell_type": "markdown",
   "metadata": {},
   "source": [
    "Alright, we can now make a classifier with these features.  This classifier will predict positive labels.  Let's try a few classification algorithms"
   ]
  },
  {
   "cell_type": "code",
   "execution_count": null,
   "metadata": {
    "collapsed": true
   },
   "outputs": [],
   "source": [
    "#First let's drop the text tweets, they aren't helpful in actual classification\n",
    "X_train_go = X_trainy.drop(X_trainy.columns[0], axis =1)\n",
    "print X_train_go.head()\n",
    "X_test_go = X_testy.drop(X_testy.columns[0], axis =1)\n",
    "print X_test_go.head()\n",
    "\n",
    "#should be no reason to scale data, because we've normalized it all, it's all probabilities."
   ]
  },
  {
   "cell_type": "code",
   "execution_count": null,
   "metadata": {
    "collapsed": true
   },
   "outputs": [],
   "source": [
    "from sklearn.metrics import f1_score\n",
    "from sklearn import svm\n",
    "from sklearn import tree\n",
    "from sklearn.metrics import confusion_matrix\n",
    "\n",
    "def f1_score_wrap (y_actual, y_predict):\n",
    "    return f1_score(y_actual, y_predict, average = \"weighted\")\n",
    "\n",
    "\n",
    "clf = tree.DecisionTreeClassifier()\n",
    "def basic(clf, X_train, X_test, y_train, y_test):\n",
    "    clf.fit(X_train, y_train)\n",
    "\n",
    "    x_pred = clf.predict(X_train)\n",
    "    F1_train = f1_score_wrap(y_train, x_pred)\n",
    "    train_conf = confusion_matrix(y_train, x_pred)\n",
    "    \n",
    "    print \"training F1:\", F1_train\n",
    "    print\n",
    "    print \"training confusion:\\n\", train_conf\n",
    "    print\n",
    "    \n",
    "    y_pred = clf.predict(X_test)\n",
    "    F1_score = f1_score_wrap(y_test, y_pred)\n",
    "    conf = confusion_matrix(y_test, y_pred)\n",
    "\n",
    "    print \"testing F1:\", F1_score\n",
    "    print\n",
    "    print \"confusion for testing\\n\", conf\n",
    "    \n",
    "basic(clf, X_train_go, X_test_go, y_train, y_test)\n",
    "print X_test_go.shape\n",
    "print X_train_go.shape"
   ]
  },
  {
   "cell_type": "code",
   "execution_count": null,
   "metadata": {
    "collapsed": true
   },
   "outputs": [],
   "source": [
    "SVM = svm.SVC()\n",
    "basic(SVM, X_train_go, X_test_go, y_train, y_test)"
   ]
  },
  {
   "cell_type": "code",
   "execution_count": null,
   "metadata": {
    "collapsed": true
   },
   "outputs": [],
   "source": [
    "from sklearn.linear_model import LogisticRegression\n",
    "lr = LogisticRegression()\n",
    "basic(lr, X_train_go, X_test_go, y_train, y_test)"
   ]
  },
  {
   "cell_type": "code",
   "execution_count": null,
   "metadata": {
    "collapsed": true
   },
   "outputs": [],
   "source": [
    "from sklearn.naive_bayes import GaussianNB\n",
    "gnb = GaussianNB()\n",
    "basic(gnb, X_train_go, X_test_go, y_train, y_test)"
   ]
  },
  {
   "cell_type": "code",
   "execution_count": null,
   "metadata": {
    "collapsed": true
   },
   "outputs": [],
   "source": [
    "from sklearn.ensemble import AdaBoostClassifier\n",
    "ada = AdaBoostClassifier(n_estimators=100)\n",
    "basic(ada, X_train_go, X_test_go, y_train, y_test)"
   ]
  },
  {
   "cell_type": "code",
   "execution_count": null,
   "metadata": {
    "collapsed": true
   },
   "outputs": [],
   "source": []
  }
 ],
 "metadata": {
  "anaconda-cloud": {},
  "kernelspec": {
   "display_name": "Python 2",
   "language": "python",
   "name": "python2"
  },
  "language_info": {
   "codemirror_mode": {
    "name": "ipython",
    "version": 2
   },
   "file_extension": ".py",
   "mimetype": "text/x-python",
   "name": "python",
   "nbconvert_exporter": "python",
   "pygments_lexer": "ipython2",
   "version": "2.7.11"
  }
 },
 "nbformat": 4,
 "nbformat_minor": 0
}
